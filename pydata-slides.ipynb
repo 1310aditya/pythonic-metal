{
 "cells": [
  {
   "cell_type": "markdown",
   "metadata": {
    "deletable": true,
    "editable": true,
    "slideshow": {
     "slide_type": "skip"
    }
   },
   "source": [
    "# Notes\n",
    "\n",
    "To compile and serve:\n",
    "\n",
    "    jupyter nbconvert pydata-slides.ipynb --to slides --post serve\n",
    "    \n",
    "    "
   ]
  },
  {
   "cell_type": "markdown",
   "metadata": {
    "deletable": true,
    "editable": true,
    "slideshow": {
     "slide_type": "slide"
    }
   },
   "source": [
    "<img src=\"resources/python-metal.jpg\">\n",
    "(logo for the [2001 thrash metal band python](http://www.metal-archives.com/bands/Python/3540404440))\n",
    "\n",
    "# Pythonic Metal\n",
    "\n",
    "Pydata Amsterdam 2017-04-09\n",
    "\n",
    "[Iain Barr](mailto:iain@degeneratestate.org)"
   ]
  },
  {
   "cell_type": "markdown",
   "metadata": {
    "deletable": true,
    "editable": true,
    "slideshow": {
     "slide_type": "subslide"
    }
   },
   "source": [
    "This talk is base on the following two blog posts\n",
    " - [Heavey Metal and Natural Language Processing: Part 1](http://www.degeneratestate.org/posts/2016/Apr/20/heavy-metal-and-natural-language-processing-part-1/)\n",
    " - [Heavey Metal and Natural Language Processing: Part 2](http://www.degeneratestate.org/posts/2016/Sep/12/heavy-metal-and-natural-language-processing-part-2/)\n",
    " \n",
    "These slide are online as [http://www.degeneratestate.org/static/presentations/metal/pd2017.html](http://www.degeneratestate.org/static/presentations/metal/pd2017.html)\n",
    "\n",
    "And all code is available [https://github.com/ijmbarr/pythonic-metal](https://github.com/ijmbarr/pythonic-metal)"
   ]
  },
  {
   "cell_type": "markdown",
   "metadata": {
    "deletable": true,
    "editable": true,
    "slideshow": {
     "slide_type": "subslide"
    }
   },
   "source": [
    "## Overview\n",
    " - Counting and Natural Language\n",
    " - Comparing documents\n",
    " - Generating Lyrics"
   ]
  },
  {
   "cell_type": "markdown",
   "metadata": {
    "deletable": true,
    "editable": true,
    "slideshow": {
     "slide_type": "subslide"
    }
   },
   "source": [
    "## Disclaimer\n",
    "<section>\n",
    "    <div style=\"float: left; width: 50%;\">\n",
    "        <p> During this talk I'm going to talk about \"Metal\" as a genre. People have strong opinions about this. For the duration of this talk I am going to use the term \"Metal\" to refer to the music whose lyrics I am analysing. I apologise in advance.</p>\n",
    "        \n",
    "    </div>\n",
    "    <div style=\"float: right; width: 50%\">\n",
    "         <img src=\"resources/metal-genres.jpg\" width=250> \n",
    "    </div>\n",
    "</section>"
   ]
  },
  {
   "cell_type": "markdown",
   "metadata": {
    "deletable": true,
    "editable": true,
    "slideshow": {
     "slide_type": "subslide"
    }
   },
   "source": [
    "## The Data\n",
    "\n",
    " - Lyrics for over 200,000 songs scraped from [www.darklyrics.com](www.darklyrics.com)\n",
    " - Mostly english, but a whole range of languages in there\n",
    " - No plans for release\n"
   ]
  },
  {
   "cell_type": "markdown",
   "metadata": {
    "deletable": true,
    "editable": true,
    "slideshow": {
     "slide_type": "slide"
    }
   },
   "source": [
    "# Counting and Natural Language"
   ]
  },
  {
   "cell_type": "markdown",
   "metadata": {
    "deletable": true,
    "editable": true,
    "slideshow": {
     "slide_type": "subslide"
    }
   },
   "source": [
    "## How can we Quantify Natural Language? \n",
    "![](resources/reading-vs-swearing.png)"
   ]
  },
  {
   "cell_type": "markdown",
   "metadata": {
    "deletable": true,
    "editable": true,
    "slideshow": {
     "slide_type": "subslide"
    }
   },
   "source": [
    "## Problems\n",
    "\n",
    " - Order: \n",
    "     - \"Man bites Dog\" vs \"Dog bites Man\"\n",
    " - Context: \n",
    "     - \"I want to kill everyone\" vs \"Don't say things like 'I want to kill everyone'\" \n",
    " - Rare words\n",
    " \n",
    " <img src=\"resources/metal-word-distribution.png\"> "
   ]
  },
  {
   "cell_type": "markdown",
   "metadata": {
    "deletable": true,
    "editable": true,
    "slideshow": {
     "slide_type": "subslide"
    }
   },
   "source": [
    "## Solutions\n",
    "\n",
    " - Ignore it all\n",
    " - Just count words"
   ]
  },
  {
   "cell_type": "markdown",
   "metadata": {
    "deletable": true,
    "editable": true,
    "slideshow": {
     "slide_type": "subslide"
    }
   },
   "source": [
    "## Word Frequencies\n",
    "\n",
    "![metal](resources/full-metal-wordcloud.png) "
   ]
  },
  {
   "cell_type": "markdown",
   "metadata": {
    "deletable": true,
    "editable": true,
    "slideshow": {
     "slide_type": "subslide"
    }
   },
   "source": [
    "## Why Does this look like it makes sense?\n",
    "\n",
    " - Implicitly we have a feeling for the relative frequency of words in the english language\n",
    " - Words like \"death\", \"die\", \"blood\" apprear more frequently then expected\n",
    " - Can we make this idea explicit?\n",
    " "
   ]
  },
  {
   "cell_type": "markdown",
   "metadata": {
    "deletable": true,
    "editable": true,
    "slideshow": {
     "slide_type": "subslide"
    }
   },
   "source": [
    "## Metal vs Brown\n",
    "\n",
    " - We to compare the frequency of words we see in metal lyrics to those \"Standard\" english\n",
    " - Use the Brown Corpus\n",
    " - Define \"Metalness\" of a word\n",
    " \n",
    " $$M = \\log\\left(\\frac{f_{metal}}{f_{englsih}}\\right) $$\n"
   ]
  },
  {
   "cell_type": "markdown",
   "metadata": {
    "deletable": true,
    "editable": true,
    "slideshow": {
     "slide_type": "subslide"
    }
   },
   "source": [
    "##  Metal Words\n",
    "\n",
    "### Most Metal\n",
    "        \n",
    "Rank|Word|Metalness\n",
    "---|---|---\n",
    "0|burn|4.11\n",
    "1|cries|3.93\n",
    "2|veins|3.89\n",
    "3|eternity|3.87\n",
    "4|breathe|3.84\n",
    "5|beast|3.84\n",
    "6|gonna|3.84\n",
    "7|demons|3.84\n",
    "8|ashes|3.81\n",
    "9|soul|3.71\n",
    "\n"
   ]
  },
  {
   "cell_type": "markdown",
   "metadata": {
    "deletable": true,
    "editable": true,
    "slideshow": {
     "slide_type": "subslide"
    }
   },
   "source": [
    "##  Metal Words\n",
    "\n",
    "### Least Metal\n",
    "\n",
    "Rank|Word|Metalness\n",
    "---|---|---\n",
    "10174|particularly|-6.03\n",
    "10173|indicated|-6.01\n",
    "10172|secretary|-5.98\n",
    "10171|university|-5.85\n",
    "10170|committee|-5.85\n",
    "10169|relatively|-5.77\n",
    "10168|approximately|-5.59\n",
    "10167|noted|-5.42\n",
    "10166|chairman|-5.38"
   ]
  },
  {
   "cell_type": "markdown",
   "metadata": {
    "slideshow": {
     "slide_type": "subslide"
    }
   },
   "source": [
    "# Most Metal Song - Infinite Darkness, Tormentor\n",
    "\n",
    "    After when the sun will die\n",
    "    After the lights\n",
    "    Evil souls of the dark will\n",
    "    Wake up and fight\n",
    "\n",
    "    Will be\n",
    "    Dark, War, Burn, Pain\n",
    "\n",
    "    After, when the wrong is right\n",
    "    Pain is nice\n",
    "    Total destructions winds\n",
    "    Blow, and blow\n",
    "\n",
    "    Will be\n",
    "    Dark, War, Burn, Pain\n",
    "\n",
    "    Storm, wild, thunder, infinite darkness...\n",
    "    Storm, wild, thunder, infinite darkness...\n",
    "    Storm, wild, thunder, infinite darkness...\n",
    "    Storm, wild, thunder, infinite darkness..."
   ]
  },
  {
   "cell_type": "markdown",
   "metadata": {
    "deletable": true,
    "editable": true,
    "slideshow": {
     "slide_type": "subslide"
    }
   },
   "source": [
    "## Metallica's Emotional Arc\n",
    "\n",
    "![metal](resources/metallica_arc.png) "
   ]
  },
  {
   "cell_type": "markdown",
   "metadata": {
    "deletable": true,
    "editable": true,
    "slideshow": {
     "slide_type": "subslide"
    }
   },
   "source": [
    "## Harry Potter Emotional Arc\n",
    "\n",
    "![metal](resources/harrypotter_arc.png)"
   ]
  },
  {
   "cell_type": "markdown",
   "metadata": {
    "deletable": true,
    "editable": true,
    "slideshow": {
     "slide_type": "slide"
    }
   },
   "source": [
    "# Comparing Documents"
   ]
  },
  {
   "cell_type": "markdown",
   "metadata": {
    "deletable": true,
    "editable": true,
    "slideshow": {
     "slide_type": "subslide"
    }
   },
   "source": [
    "## Raw Counts\n",
    "\n",
    "<section>\n",
    "    <div style=\"float: left; width: 33%;\">\n",
    "         <img src=\"resources/motorhead-freq-wordcloud.png\" width=300>        \n",
    "    </div>\n",
    "    <div style=\"display: inline-block; width: 33%\">\n",
    "         <img src=\"resources/machinehead-freq-wordcloud.png\" width=300> \n",
    "    </div>\n",
    "    <div style=\"float: right; width: 33%\">\n",
    "         <img src=\"resources/diamondhead-freq-wordcloud.png\" width=300> \n",
    "   </div>\n",
    "\n",
    "</section>"
   ]
  },
  {
   "cell_type": "markdown",
   "metadata": {
    "deletable": true,
    "editable": true,
    "slideshow": {
     "slide_type": "subslide"
    }
   },
   "source": [
    "## Raw Counts\n",
    "\n",
    "<section>\n",
    "    <div style=\"float: left; width: 33%;\">\n",
    "        <h2> Motorhead </h2>\n",
    "        <img src=\"resources/motorhead-freq-wordcloud.png\" width=300>        \n",
    "    </div>\n",
    "    <div style=\"display: inline-block; width: 33%\">\n",
    "        <h2> Machinehead </h2>\n",
    "        <img src=\"resources/machinehead-freq-wordcloud.png\" width=300> \n",
    "    </div>\n",
    "    <div style=\"float: right; width: 33%\">\n",
    "        <h2> Diamondhead </h2>\n",
    "        <img src=\"resources/diamondhead-freq-wordcloud.png\" width=300> \n",
    "   </div>\n",
    "\n",
    "</section>"
   ]
  },
  {
   "cell_type": "markdown",
   "metadata": {
    "deletable": true,
    "editable": true,
    "slideshow": {
     "slide_type": "subslide"
    }
   },
   "source": [
    "## Identifying \"Important\" Words\n",
    " - Different, but not that different\n",
    " - Common words are still very common\n",
    " - How can we amplify the differences?\n",
    " - One possibility is the Likelihood Ratio:\n",
    "$$\n",
    "L_{w} = N_{w}\\log{\\frac{N_{w}}{E_{w}}} + \\bar{N}_{w}\\log{\\frac{\\bar{N}_{w}}{\\bar{E}_{w}}}\n",
    "$$"
   ]
  },
  {
   "cell_type": "markdown",
   "metadata": {
    "deletable": true,
    "editable": true,
    "slideshow": {
     "slide_type": "subslide"
    }
   },
   "source": [
    "## Again\n",
    "\n",
    "<div>\n",
    "    <div style=\"float: left; width: 33%;\">\n",
    "        <h2> Motorhead </h2>\n",
    "        <img src=\"resources/motorhead-ll-wordcloud.png\" width=300>        \n",
    "    </div>\n",
    "    <div style=\"display: inline-block; width: 33%\">\n",
    "        <h2> Machinehead </h2>\n",
    "        <img src=\"resources/machinehead-ll-wordcloud.png\" width=300> \n",
    "    </div>\n",
    "    <div style=\"float: right; width: 33%\">\n",
    "        <h2> Diamondhead </h2>\n",
    "        <img src=\"resources/diamondhead-ll-wordcloud.png\" width=300> \n",
    "    </div>\n",
    "</div>"
   ]
  },
  {
   "cell_type": "markdown",
   "metadata": {
    "deletable": true,
    "editable": true,
    "slideshow": {
     "slide_type": "subslide"
    }
   },
   "source": [
    "## TF-IDF\n",
    " - Similar to likelihood ratio, but implemented in scikit-learn"
   ]
  },
  {
   "cell_type": "markdown",
   "metadata": {
    "deletable": true,
    "editable": true,
    "slideshow": {
     "slide_type": "subslide"
    }
   },
   "source": [
    "## TF-IDF Orgasmatrion\n",
    "<br>i am the one orgasmatron<br>the oustreched <span style=\"color:#ff4a00\">grasping</span> <span style=\"color:#ffab00\">hand</span><br>my <span style=\"color:#ff6e00\">image</span> is of <span style=\"color:#ff7c00\">agony</span><br>my <span style=\"color:#ff5600\">servants</span> <span style=\"color:#ff7400\">rape</span> the <span style=\"color:#ffa200\">land</span><br>obsequious and <span style=\"color:#ff5200\">arrogance</span><br>clandestine and <span style=\"color:#ffb800\">pain</span><br>two thousend <span style=\"color:#ff9e00\">years</span> of <span style=\"color:#ff8600\">misery</span><br>of <span style=\"color:#ff7900\">torture</span> in my name<br><span style=\"color:#ff6000\">hypocrisy</span> made paramount<br><span style=\"color:#ff5200\">paranoia</span> the <span style=\"color:#ff8600\">law</span><br>my name is <span style=\"color:#ff8400\">called</span> <span style=\"color:#ff7c00\">religion</span><br><span style=\"color:#ff4b00\">sadistic</span><br><span style=\"color:#ff8400\">sacred</span><br><span style=\"color:#ff7700\">whore</span><br><br>i <span style=\"color:#ff6900\">twist</span> the <span style=\"color:#ffa700\">truth</span><br>i <span style=\"color:#ff8700\">rule</span> the <span style=\"color:#ffbf00\">world</span><br>my <span style=\"color:#ff8000\">crown</span> is <span style=\"color:#ff8400\">called</span> <span style=\"color:#ff6900\">deceit</span><br>i am the <span style=\"color:#ff5000\">emperor</span> of <span style=\"color:#ffaf00\">lies</span><br>you grovel at my <span style=\"color:#ff8f00\">feet</span><br>i <span style=\"color:#ff4b00\">rob</span> you and i <span style=\"color:#ff7400\">slaughter</span> you<br>your <span style=\"color:#ff5400\">downfall</span> is my <span style=\"color:#ff7100\">gain</span><br>and still you <span style=\"color:#ff9900\">play</span> the sycophant<br>and <span style=\"color:#ff5e00\">rebel</span> in your <span style=\"color:#ffb800\">pain</span><br>and all my <span style=\"color:#ff6f00\">promises</span> are <span style=\"color:#ffaf00\">lies</span><br>all my <span style=\"color:#ffb700\">love</span> is <span style=\"color:#ffa900\">hate</span><br>i am the <span style=\"color:#ff3b00\">politician</span><br>and i <span style=\"color:#ff6f00\">decide</span> your <span style=\"color:#ff9d00\">fate</span><br><br>i <span style=\"color:#ff7700\">march</span> before a martiant <span style=\"color:#ffbf00\">world</span><br>an <span style=\"color:#ff6d00\">army</span> for the <span style=\"color:#ffab00\">fight</span><br>i <span style=\"color:#ff8c00\">speak</span> of <span style=\"color:#ff8f00\">great</span> heroic <span style=\"color:#ff9e00\">days</span><br>of <span style=\"color:#ff7e00\">victory</span> and might<br>i <span style=\"color:#ffa500\">hold</span> a <span style=\"color:#ff4e00\">banner</span> <span style=\"color:#ff4d00\">drenched</span> in <span style=\"color:#ffb600\">blood</span><br>i <span style=\"color:#ff6000\">urge</span> you to be <span style=\"color:#ff7f00\">brave</span><br>i <span style=\"color:#ff9000\">lead</span> you to your <span style=\"color:#ff9000\">destiny</span><br>i <span style=\"color:#ff9000\">lead</span> you to your <span style=\"color:#ff9300\">grave</span><br>your <span style=\"color:#ff8800\">bones</span> will <span style=\"color:#ff7900\">build</span> my palaces<br>your <span style=\"color:#ffbf00\">eyes</span> will stud my <span style=\"color:#ff8000\">crown</span><br>for i am <span style=\"color:#ff4c00\">mars</span> the <span style=\"color:#ffae00\">god</span> of <span style=\"color:#ffa700\">war</span><br>and i will <span style=\"color:#ff9100\">cut</span> you down<br><br><br><br>\n"
   ]
  },
  {
   "cell_type": "markdown",
   "metadata": {
    "deletable": true,
    "editable": true,
    "slideshow": {
     "slide_type": "subslide"
    }
   },
   "source": [
    "## Vectorhead\n",
    "Band|Nearby Bands|Nearby Songs|Important words\n",
    "---|---|---|---\n",
    "motorhead|motorhead, alicecooper, helloween| Life's A Bitch,  Desperate For You,  Name In Vain|don't, know, ain't\n",
    "slayer|slayer, hypocrisy, testament| Black Magic (Live),  Black Magic,  Black Magic|death, blood, life\n",
    "carcass|carcass, cannibalcorpse, archenemy| Pyosisified (Rotten To The Gore),  Pyosified (Still Rotten To The Gore),  Malignant Defecation|flesh, pus, septic"
   ]
  },
  {
   "cell_type": "markdown",
   "metadata": {
    "deletable": true,
    "editable": true,
    "slideshow": {
     "slide_type": "subslide"
    }
   },
   "source": [
    "## Clusterhead\n",
    "\n",
    "<img src=\"resources/band-clustering.png\">"
   ]
  },
  {
   "cell_type": "markdown",
   "metadata": {
    "deletable": true,
    "editable": true,
    "slideshow": {
     "slide_type": "subslide"
    }
   },
   "source": [
    "## Where this Fails\n",
    "\n",
    " - Covers songs\n",
    " - Spare Vectors\n",
    " - No notion of Synonyms\n",
    " - Much more sophisticated (document -> vector) tools exist\n",
    "     - LSA\n",
    "     - LDA\n",
    "     - Word2Vec/doc2vec/etc\n",
    "     - Deep [whatever]\n",
    "     \n",
    " "
   ]
  },
  {
   "cell_type": "markdown",
   "metadata": {
    "deletable": true,
    "editable": true,
    "slideshow": {
     "slide_type": "slide"
    }
   },
   "source": [
    "# Generating Metal"
   ]
  },
  {
   "cell_type": "markdown",
   "metadata": {
    "deletable": true,
    "editable": true,
    "slideshow": {
     "slide_type": "subslide"
    }
   },
   "source": [
    "## How to Generate Natural language\n",
    "\n",
    "How we _might_ think humans \"generate\" lyrics:\n",
    " - Start with an idea we wish to communicate\n",
    " - Generate Natural Language from it\n",
    " - Impose song structure constraints\n",
    " - Iterate till it is \"good\"\n",
    "\n"
   ]
  },
  {
   "cell_type": "markdown",
   "metadata": {
    "deletable": true,
    "editable": true,
    "slideshow": {
     "slide_type": "subslide"
    }
   },
   "source": [
    "## Problems\n",
    " - What does this high level representation space even _look like_?"
   ]
  },
  {
   "cell_type": "markdown",
   "metadata": {
    "deletable": true,
    "editable": true,
    "slideshow": {
     "slide_type": "subslide"
    }
   },
   "source": [
    "##  Solutions\n",
    " - Ignore it all\n",
    " - Just count words"
   ]
  },
  {
   "cell_type": "markdown",
   "metadata": {
    "deletable": true,
    "editable": true,
    "slideshow": {
     "slide_type": "subslide"
    }
   },
   "source": [
    "## Language as Probability\n",
    "\n",
    " - Think of language not as a representation of some higher level space, but simply a probabiliy distribution over tokens:\n",
    "\n",
    "$$ P(w_{1}w_{2}w_{3}...)$$\n",
    "\n",
    " - To \"generate\" language, we **just** need to create a representation for this distribution, and then sample from it\n",
    " - Problems:\n",
    "     - Exponentially large space of possible documents\n",
    "     - Sequences have variable length\n",
    "     - Limited training data"
   ]
  },
  {
   "cell_type": "markdown",
   "metadata": {
    "deletable": true,
    "editable": true,
    "slideshow": {
     "slide_type": "subslide"
    }
   },
   "source": [
    "## Bayes Theorem to the rescue\n",
    "\n",
    "Repeatly apply Bayes theorem to write sequence probability as the product of the probability of a token, given all previous tokens\n",
    "\n",
    "$$ P(w_{0}w_{1}w_{2}...) = P(w_{n}|w_{0}w_{1}...w_{n-1})P(w_{0}w_{1}...w_{n-1})$$\n",
    "\n",
    "$$ = P(w_{n}|w_{0}w_{1}...w_{n-1})P(w_{n-1}|w_{0}w_{1}...w_{n-2})...P(w_{0})$$\n",
    "\n",
    "$$ = \\prod^{n}_{i=0} P(w_{i}|w_{0}...w_{i-1})$$"
   ]
  },
  {
   "cell_type": "markdown",
   "metadata": {
    "deletable": true,
    "editable": true,
    "slideshow": {
     "slide_type": "subslide"
    }
   },
   "source": [
    "## Markov Assumption\n",
    "\n",
    "History only exists for $k$ previous tokens:\n",
    "\n",
    "$$P(w_{n}|w_{0}...w_{i-1}) \\approx P(w_{n}|w_{n-k}...w_{n-1})$$"
   ]
  },
  {
   "cell_type": "markdown",
   "metadata": {
    "deletable": true,
    "editable": true,
    "slideshow": {
     "slide_type": "subslide"
    }
   },
   "source": [
    "##  Counting\n",
    "\n",
    "$$P(w_{n}|w_{n-3}...w_{n-1}) = \\frac{\\#(w_{n}w_{n-1}w_{n-2})}{\\#(w_{n-1}w_{n-2})}$$"
   ]
  },
  {
   "cell_type": "markdown",
   "metadata": {
    "deletable": true,
    "editable": true,
    "slideshow": {
     "slide_type": "subslide"
    }
   },
   "source": [
    "## Markov Metal Machine\n",
    "<img src=\"resources/666.png\">"
   ]
  },
  {
   "cell_type": "markdown",
   "metadata": {
    "deletable": true,
    "editable": true,
    "slideshow": {
     "slide_type": "subslide"
    }
   },
   "source": [
    "## Markov Metal Machine - 4 word context example\n",
    "\n",
    "(coloured by existance in trained text)\n",
    "\n",
    "<p><span style=\"color:#8c564b\"> legion of the damned<br><br>n</span><span style=\"color:#e377c2\">ow it's over<br>now it's over<br>and i</span><span style=\"color:#7f7f7f\">t just ain't right. it just ain't right </span><span style=\"color:#bcbd22\">hey man, look at me, l</span><span style=\"color:#17becf\">ook at me<br>you know i</span><span style=\"color:#1f77b4\">t won't last too long hey kid, you're the toast of the town<br><br></span><span style=\"color:#ff7f0e\">what did i ever do to you<br>t</span><span style=\"color:#2ca02c\">hat makes you fall much higher<br>you plant a d</span><span style=\"color:#d62728\">emon seed<br>you raise a flower of fire.<br>we see them n</span><span style=\"color:#9467bd\">ow in picture books<br>built by you on belfast docks<br>the greatest ships the world has ever seen.</span><span style=\"color:#8c564b\"><br>sing this hymn of victory, it will be y</span><span style=\"color:#e377c2\">our last<br>arise the war cry-</span><span style=\"color:#7f7f7f\">like it will be your last </span><span style=\"color:#bcbd22\">[</span><span style=\"color:#17becf\">E</span><span style=\"color:#1f77b4\">N</span><span style=\"color:#ff7f0e\">D</span><span style=\"color:#2ca02c\">]</span><span style=\"color:#d62728\"> </span></p>\n"
   ]
  },
  {
   "cell_type": "markdown",
   "metadata": {
    "deletable": true,
    "editable": true,
    "slideshow": {
     "slide_type": "subslide"
    }
   },
   "source": [
    "## Going Deeper\n",
    "\n",
    "- This is _really good_ for unsupervised text generation\n",
    "- Compare with the output of recurrent neural networks trained on the same data"
   ]
  },
  {
   "cell_type": "markdown",
   "metadata": {
    "deletable": true,
    "editable": true,
    "slideshow": {
     "slide_type": "subslide"
    }
   },
   "source": [
    "## Going Deeper\n",
    "\n",
    "(coloured by existance in trained text)\n",
    "\n",
    "<p><span style=\"color:#2ca02c\">far away from the sky<br>w</span><span style=\"color:#d62728\">here we will be f</span><span style=\"color:#9467bd\">orgotten<br>the fi</span><span style=\"color:#8c564b\">nal beauty f</span><span style=\"color:#e377c2\">or a way<br>in</span><span style=\"color:#7f7f7f\"> this enemy o</span><span style=\"color:#bcbd22\">f sun<br>and the l</span><span style=\"color:#17becf\">and of a bl</span><span style=\"color:#1f77b4\">ood<br><br>we are w</span><span style=\"color:#ff7f0e\">hat it is a </span><span style=\"color:#2ca02c\">life of hope<br></span><span style=\"color:#d62728\">the blood of the world w</span><span style=\"color:#9467bd\">e start to de</span><span style=\"color:#8c564b\">ceive<br>the wo</span><span style=\"color:#e377c2\">rld is what i f</span><span style=\"color:#7f7f7f\">eel in the wi</span><span style=\"color:#bcbd22\">nd<br><br>a shadow o</span><span style=\"color:#17becf\">f the same roa</span><span style=\"color:#1f77b4\">d<br>the air o</span><span style=\"color:#ff7f0e\">f the walls<br>the s</span><span style=\"color:#2ca02c\">un was never a</span><span style=\"color:#d62728\"> sin<br>killing </span><span style=\"color:#9467bd\">babylon in t</span><span style=\"color:#8c564b\">he start<br>and the c</span><span style=\"color:#e377c2\">ult of the t</span><span style=\"color:#7f7f7f\">ime<br><br>behind t</span><span style=\"color:#bcbd22\">he voice of the fuc</span><span style=\"color:#17becf\">king slaughters</span><span style=\"color:#1f77b4\"><br>with the things that w</span><span style=\"color:#ff7f0e\">e deny<br>the s</span><span style=\"color:#2ca02c\">un is the sa</span><span style=\"color:#d62728\">me<br>with the stre</span><span style=\"color:#9467bd\">ngth of lies<br><br>a</span><span style=\"color:#8c564b\"> soul and the d</span><span style=\"color:#e377c2\">ea</span></p>"
   ]
  },
  {
   "cell_type": "markdown",
   "metadata": {
    "deletable": true,
    "editable": true,
    "slideshow": {
     "slide_type": "slide"
    }
   },
   "source": [
    "# The End\n",
    "\n",
    "    \"Formulas to stop your heart\n",
    "    And eradicate your soul\n",
    "    I will raise you from the ground\n",
    "    Strenghtened by the Python God\"\n",
    "\n",
    "Deathwish, Usurper"
   ]
  }
 ],
 "metadata": {
  "celltoolbar": "Slideshow",
  "kernelspec": {
   "display_name": "Python 3",
   "language": "python",
   "name": "python3"
  },
  "language_info": {
   "codemirror_mode": {
    "name": "ipython",
    "version": 3
   },
   "file_extension": ".py",
   "mimetype": "text/x-python",
   "name": "python",
   "nbconvert_exporter": "python",
   "pygments_lexer": "ipython3",
   "version": "3.5.2"
  }
 },
 "nbformat": 4,
 "nbformat_minor": 2
}
